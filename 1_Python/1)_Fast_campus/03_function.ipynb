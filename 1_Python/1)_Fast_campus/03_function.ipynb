{
 "cells": [
  {
   "cell_type": "markdown",
   "metadata": {},
   "source": [
    "# 3. Function\n",
    "- function structure\n",
    "```\n",
    "def <function_name>(<parameter_name_1>,<parameter_name_2> ...):\n",
    "    code_1\n",
    "    code_2\n",
    "```\n",
    "- return\n",
    "- parameter & argument\n",
    "- *args\n",
    "- **kwargs\n",
    "- docstring\n",
    "- global (scope)\n",
    "- inner function ( closure )\n",
    "- lambda function\n",
    "- map\n",
    "- filter\n",
    "- reduce\n",
    "- decorlator"
   ]
  },
  {
   "cell_type": "markdown",
   "metadata": {},
   "source": [
    "### basic function\n",
    "- 반복적인 기능을 묶어주는 개념\n",
    "- 반복적인 기능 함수를 통해 묶음으로 더 깔끔한 코딩이 가능하다."
   ]
  },
  {
   "cell_type": "code",
   "execution_count": 2,
   "metadata": {},
   "outputs": [
    {
     "name": "stdout",
     "output_type": "stream",
     "text": [
      "dss\n",
      "dss\n",
      "dss\n",
      "data\n",
      "data\n",
      "data\n",
      "science\n",
      "science\n",
      "science\n"
     ]
    }
   ],
   "source": [
    "# 각 요소들을 3번씩 출력\n",
    "l = [\"dss\", \"data\", \"science\"]\n",
    "print(l[0])\n",
    "print(l[0])\n",
    "print(l[0])\n",
    "print(l[1])\n",
    "print(l[1])\n",
    "print(l[1])\n",
    "print(l[2])\n",
    "print(l[2])\n",
    "print(l[2])"
   ]
  },
  {
   "cell_type": "code",
   "execution_count": 3,
   "metadata": {
    "collapsed": true
   },
   "outputs": [],
   "source": [
    "# 입력 받은 데이터를 세번 출력해주는 함수\n",
    "def three_disp(data):\n",
    "    print(data)\n",
    "    print(data)\n",
    "    print(data)"
   ]
  },
  {
   "cell_type": "code",
   "execution_count": 4,
   "metadata": {},
   "outputs": [
    {
     "name": "stdout",
     "output_type": "stream",
     "text": [
      "dss\n",
      "dss\n",
      "dss\n",
      "data\n",
      "data\n",
      "data\n",
      "science\n",
      "science\n",
      "science\n"
     ]
    }
   ],
   "source": [
    "l = [\"dss\", \"data\", \"science\"]\n",
    "three_disp(l[0])\n",
    "three_disp(l[1])\n",
    "three_disp(l[2])"
   ]
  },
  {
   "cell_type": "markdown",
   "metadata": {},
   "source": [
    "### return"
   ]
  },
  {
   "cell_type": "code",
   "execution_count": 5,
   "metadata": {},
   "outputs": [
    {
     "name": "stdout",
     "output_type": "stream",
     "text": [
      "data\n"
     ]
    }
   ],
   "source": [
    "def test_func():\n",
    "    return \"data\"\n",
    "\n",
    "s = test_func()\n",
    "print(s)"
   ]
  },
  {
   "cell_type": "code",
   "execution_count": 6,
   "metadata": {
    "collapsed": true
   },
   "outputs": [],
   "source": [
    "def test_func():\n",
    "    if a < 10:\n",
    "        return\n",
    "    else:\n",
    "        print(\"\")"
   ]
  },
  {
   "cell_type": "code",
   "execution_count": 7,
   "metadata": {
    "collapsed": true
   },
   "outputs": [],
   "source": [
    "# 문제 숫자 리스트를 받아서 평균을 구해주는 함수를 작성\n",
    "def avg(points):\n",
    "    total = 0\n",
    "    for point in points:\n",
    "        total += point\n",
    "    return total / len(points)"
   ]
  },
  {
   "cell_type": "markdown",
   "metadata": {},
   "source": [
    "### parameter & argument\n",
    "- 데이터를 넘길때 넘기는 데이터를 parameter라고 함\n",
    "- 데이터를 받을때 받는 데이터를 argument라고 함"
   ]
  },
  {
   "cell_type": "code",
   "execution_count": 8,
   "metadata": {
    "collapsed": true
   },
   "outputs": [],
   "source": [
    "def test_func(): # no parameter and no return function\n",
    "    pass"
   ]
  },
  {
   "cell_type": "code",
   "execution_count": 9,
   "metadata": {},
   "outputs": [
    {
     "name": "stdout",
     "output_type": "stream",
     "text": [
      "fast_campus\n"
     ]
    }
   ],
   "source": [
    "def print_func(s): # one parmeter and no return function\n",
    "    print(s)\n",
    "    \n",
    "print_func(\"fast_campus\")"
   ]
  },
  {
   "cell_type": "code",
   "execution_count": 10,
   "metadata": {},
   "outputs": [
    {
     "name": "stdout",
     "output_type": "stream",
     "text": [
      "fast_campus no_data\n",
      "fast_campus data_science\n",
      "science data\n"
     ]
    }
   ],
   "source": [
    "def print_func(s1, s2=\"no_data\"): # s2 : set basic parameter\n",
    "    print(\"{} {}\".format(s1, s2))\n",
    "    \n",
    "print_func(\"fast_campus\")\n",
    "print_func(\"fast_campus\", \"data_science\") # position arguments\n",
    "print_func(s2=\"data\", s1=\"science\") # keyword arguments"
   ]
  },
  {
   "cell_type": "code",
   "execution_count": 2,
   "metadata": {
    "collapsed": true
   },
   "outputs": [],
   "source": [
    "def avg_func(korean, english, math):\n",
    "    return (korean + english + math) / 3"
   ]
  },
  {
   "cell_type": "code",
   "execution_count": 3,
   "metadata": {},
   "outputs": [
    {
     "name": "stdout",
     "output_type": "stream",
     "text": [
      "avg : 83.33\n"
     ]
    }
   ],
   "source": [
    "a = avg_func(100, 70, 80)\n",
    "print(\"avg : {}\".format(round(a,2)))"
   ]
  },
  {
   "cell_type": "code",
   "execution_count": 4,
   "metadata": {},
   "outputs": [
    {
     "name": "stdout",
     "output_type": "stream",
     "text": [
      "83.33\n"
     ]
    }
   ],
   "source": [
    "def func_param(func):\n",
    "    result = func(100, 70, 80)\n",
    "    print(round(result,2))\n",
    "\n",
    "func_param(avg_func)"
   ]
  },
  {
   "cell_type": "markdown",
   "metadata": {},
   "source": [
    "### *args\n",
    "- arguments\n",
    "- 함수에서 여러개의 파라미터를 한꺼번에 받을때 사용\n",
    "- 받는 arguments 데이터는 tuple 데이터 타입으로 받는다.\n",
    "- `*` 의 의미는 모든 value 를 받는다는 의미"
   ]
  },
  {
   "cell_type": "code",
   "execution_count": 14,
   "metadata": {},
   "outputs": [
    {
     "name": "stdout",
     "output_type": "stream",
     "text": [
      "(1, 2, 3, 'fast', 'campus', ['data', 'science'])\n",
      "<class 'tuple'>\n",
      "campus\n",
      "science\n"
     ]
    }
   ],
   "source": [
    "def print_args(*args):\n",
    "    print(args)\n",
    "    print(type(args))\n",
    "    print(args[4])\n",
    "    print(args[5][1])\n",
    "    \n",
    "print_args(1, 2, 3, \"fast\", \"campus\", [\"data\", \"science\"])"
   ]
  },
  {
   "cell_type": "code",
   "execution_count": 15,
   "metadata": {
    "collapsed": true
   },
   "outputs": [],
   "source": [
    "def avg_func(*args):\n",
    "    for data in args:\n",
    "        print(data)\n",
    "    return sum(args) / len(args)"
   ]
  },
  {
   "cell_type": "code",
   "execution_count": 16,
   "metadata": {},
   "outputs": [
    {
     "name": "stdout",
     "output_type": "stream",
     "text": [
      "100\n",
      "70\n",
      "80\n",
      "avg : 83.33\n"
     ]
    }
   ],
   "source": [
    "a = avg_func(100, 70, 80)\n",
    "print(\"avg : {}\".format(round(a,2)))"
   ]
  },
  {
   "cell_type": "markdown",
   "metadata": {},
   "source": [
    "### **kwargs\n",
    "- keyword argument\n",
    "- 여러개의 파라미터를 key-value 형태로 받을때 사용\n",
    "- 함수에서 받는 keyword argument의 데이터는 dictionary 데이터 타입으로 받는다\n",
    "- `**` 의 의미는 모든 key, value를 받는 다는 의미"
   ]
  },
  {
   "cell_type": "code",
   "execution_count": 17,
   "metadata": {
    "collapsed": true
   },
   "outputs": [],
   "source": [
    "def avg_func(**kwargs):\n",
    "    print(kwargs)\n",
    "    print(type(kwargs))\n",
    "    total, count = 0, 0\n",
    "    for subject, point in kwargs.items():\n",
    "        print(subject, point)\n",
    "        total += point\n",
    "        count += 1\n",
    "    return total / count"
   ]
  },
  {
   "cell_type": "code",
   "execution_count": 18,
   "metadata": {},
   "outputs": [
    {
     "name": "stdout",
     "output_type": "stream",
     "text": [
      "{'korean': 100, 'english': 70, 'math': 80}\n",
      "<class 'dict'>\n",
      "korean 100\n",
      "english 70\n",
      "math 80\n",
      "avg : 83.33\n"
     ]
    }
   ],
   "source": [
    "a = avg_func(korean=100, english=70, math=80)\n",
    "print(\"avg : {}\".format(round(a,2)))"
   ]
  },
  {
   "cell_type": "code",
   "execution_count": 19,
   "metadata": {
    "collapsed": true
   },
   "outputs": [],
   "source": [
    "def test_func(*args, **kwargs):\n",
    "    print(args)\n",
    "    print(kwargs)"
   ]
  },
  {
   "cell_type": "code",
   "execution_count": 20,
   "metadata": {},
   "outputs": [
    {
     "name": "stdout",
     "output_type": "stream",
     "text": [
      "(1, 2, 3, 'fastcampus', 'datascience')\n",
      "{}\n"
     ]
    }
   ],
   "source": [
    "test_func(1, 2, 3, \"fastcampus\", \"datascience\")"
   ]
  },
  {
   "cell_type": "code",
   "execution_count": 21,
   "metadata": {},
   "outputs": [
    {
     "name": "stdout",
     "output_type": "stream",
     "text": [
      "()\n",
      "{'korean': 100, 'english': 70, 'math': 80}\n"
     ]
    }
   ],
   "source": [
    "test_func(korean=100, english=70, math=80)"
   ]
  },
  {
   "cell_type": "code",
   "execution_count": 22,
   "metadata": {},
   "outputs": [
    {
     "name": "stdout",
     "output_type": "stream",
     "text": [
      "(1, 2, 3, 'fastcampus', 'datascience')\n",
      "{'korean': 100, 'english': 70, 'math': 80}\n"
     ]
    }
   ],
   "source": [
    "test_func(1, 2, 3, \"fastcampus\", \"datascience\", korean=100, english=70, math=80)"
   ]
  },
  {
   "cell_type": "markdown",
   "metadata": {},
   "source": [
    "### docstring\n",
    "- readability counts (PEP 20:Zen of Python)\n",
    "- 가독성은 중요하다."
   ]
  },
  {
   "cell_type": "code",
   "execution_count": 5,
   "metadata": {
    "collapsed": true
   },
   "outputs": [],
   "source": [
    "def echo(anything):\n",
    "    'echo returns its input argument'\n",
    "    return anything\n",
    "\n",
    "def echo2(anything):\n",
    "    '''\n",
    "    echo returns its input argument\n",
    "    The operation is:\n",
    "        1. print anything parameter\n",
    "        2. return anything parameter\n",
    "    '''\n",
    "    print(\"echo2 function : {}\".format(anything))\n",
    "    return anything"
   ]
  },
  {
   "cell_type": "code",
   "execution_count": 24,
   "metadata": {},
   "outputs": [
    {
     "name": "stdout",
     "output_type": "stream",
     "text": [
      "echo2 function : data_science\n",
      "data_science data_science\n"
     ]
    }
   ],
   "source": [
    "result1 = echo(\"data_science\")\n",
    "result2 = echo2(\"data_science\")\n",
    "print(result1, result2)"
   ]
  },
  {
   "cell_type": "code",
   "execution_count": 25,
   "metadata": {},
   "outputs": [
    {
     "name": "stdout",
     "output_type": "stream",
     "text": [
      "Help on function echo in module __main__:\n",
      "\n",
      "echo(anything)\n",
      "    echo returns its input argument\n",
      "\n"
     ]
    }
   ],
   "source": [
    "help(echo)"
   ]
  },
  {
   "cell_type": "code",
   "execution_count": 7,
   "metadata": {},
   "outputs": [
    {
     "data": {
      "text/plain": [
       "'echo returns its input argument'"
      ]
     },
     "execution_count": 7,
     "metadata": {},
     "output_type": "execute_result"
    }
   ],
   "source": [
    "echo.__doc__"
   ]
  },
  {
   "cell_type": "code",
   "execution_count": 27,
   "metadata": {},
   "outputs": [
    {
     "data": {
      "text/plain": [
       "<function __main__.echo>"
      ]
     },
     "execution_count": 27,
     "metadata": {},
     "output_type": "execute_result"
    }
   ],
   "source": [
    "echo # shift + tab"
   ]
  },
  {
   "cell_type": "code",
   "execution_count": 28,
   "metadata": {
    "collapsed": true
   },
   "outputs": [],
   "source": [
    "echo2?"
   ]
  },
  {
   "cell_type": "markdown",
   "metadata": {},
   "source": [
    "### global\n",
    "- function scope\n",
    "    - locals\n",
    "    - globals\n",
    "- how to change global variable ?"
   ]
  },
  {
   "cell_type": "code",
   "execution_count": 29,
   "metadata": {},
   "outputs": [
    {
     "name": "stdout",
     "output_type": "stream",
     "text": [
      "10\n"
     ]
    }
   ],
   "source": [
    "gv = 10\n",
    "def print_gv():\n",
    "    print(gv)\n",
    "    \n",
    "print_gv()"
   ]
  },
  {
   "cell_type": "code",
   "execution_count": 8,
   "metadata": {},
   "outputs": [
    {
     "name": "stdout",
     "output_type": "stream",
     "text": [
      "{'__name__': '__main__', '__doc__': 'Automatically created module for IPython interactive environment', '__package__': None, '__loader__': None, '__spec__': None, '__builtin__': <module 'builtins' (built-in)>, '__builtins__': <module 'builtins' (built-in)>, '_ih': ['', 'def func_param(func):\\n    result = func(100, 70, 80)\\n    print(round(result,2))\\n\\nfunc_param(avg_func)', 'def avg_func(korean, english, math):\\n    return (korean + english + math) / 3', 'a = avg_func(100, 70, 80)\\nprint(\"avg : {}\".format(round(a,2)))', 'def func_param(func):\\n    result = func(100, 70, 80)\\n    print(round(result,2))\\n\\nfunc_param(avg_func)', 'def echo(anything):\\n    \\'echo returns its input argument\\'\\n    return anything\\n\\ndef echo2(anything):\\n    \\'\\'\\'\\n    echo returns its input argument\\n    The operation is:\\n        1. print anything parameter\\n        2. return anything parameter\\n    \\'\\'\\'\\n    print(\"echo2 function : {}\".format(anything))\\n    return anything', 'print(echo.__doc__)', 'echo.__doc__', \"gv1 = 1\\ngv2 = 2\\n\\ndef print_globals():\\n    gv1 = 10\\n    gv2 = 20\\n    print(globals())\\n\\ndef print_locals():\\n    gv1 = 10\\n    gv2 = 20\\n    print(locals())\\n\\nprint_globals()\\nprint_locals() \\nglobals()['gv2']\"], '_oh': {7: 'echo returns its input argument'}, '_dh': ['/Users/sunghwanki/Desktop/Fast_Campus/Programming_박두진강사/01_수업내용/1_Basic'], 'In': ['', 'def func_param(func):\\n    result = func(100, 70, 80)\\n    print(round(result,2))\\n\\nfunc_param(avg_func)', 'def avg_func(korean, english, math):\\n    return (korean + english + math) / 3', 'a = avg_func(100, 70, 80)\\nprint(\"avg : {}\".format(round(a,2)))', 'def func_param(func):\\n    result = func(100, 70, 80)\\n    print(round(result,2))\\n\\nfunc_param(avg_func)', 'def echo(anything):\\n    \\'echo returns its input argument\\'\\n    return anything\\n\\ndef echo2(anything):\\n    \\'\\'\\'\\n    echo returns its input argument\\n    The operation is:\\n        1. print anything parameter\\n        2. return anything parameter\\n    \\'\\'\\'\\n    print(\"echo2 function : {}\".format(anything))\\n    return anything', 'print(echo.__doc__)', 'echo.__doc__', \"gv1 = 1\\ngv2 = 2\\n\\ndef print_globals():\\n    gv1 = 10\\n    gv2 = 20\\n    print(globals())\\n\\ndef print_locals():\\n    gv1 = 10\\n    gv2 = 20\\n    print(locals())\\n\\nprint_globals()\\nprint_locals() \\nglobals()['gv2']\"], 'Out': {7: 'echo returns its input argument'}, 'get_ipython': <bound method InteractiveShell.get_ipython of <ipykernel.zmqshell.ZMQInteractiveShell object at 0x1076bff98>>, 'exit': <IPython.core.autocall.ZMQExitAutocall object at 0x10a109f28>, 'quit': <IPython.core.autocall.ZMQExitAutocall object at 0x10a109f28>, '_': 'echo returns its input argument', '__': '', '___': '', 'np': <module 'numpy' from '/Users/sunghwanki/anaconda3/lib/python3.6/site-packages/numpy/__init__.py'>, 'pd': <module 'pandas' from '/Users/sunghwanki/anaconda3/lib/python3.6/site-packages/pandas/__init__.py'>, 'mpl': <module 'matplotlib' from '/Users/sunghwanki/anaconda3/lib/python3.6/site-packages/matplotlib/__init__.py'>, 'plt': <module 'matplotlib.pyplot' from '/Users/sunghwanki/anaconda3/lib/python3.6/site-packages/matplotlib/pyplot.py'>, 'sns': <module 'seaborn' from '/Users/sunghwanki/anaconda3/lib/python3.6/site-packages/seaborn/__init__.py'>, '_i': 'echo.__doc__', '_ii': 'print(echo.__doc__)', '_iii': 'def echo(anything):\\n    \\'echo returns its input argument\\'\\n    return anything\\n\\ndef echo2(anything):\\n    \\'\\'\\'\\n    echo returns its input argument\\n    The operation is:\\n        1. print anything parameter\\n        2. return anything parameter\\n    \\'\\'\\'\\n    print(\"echo2 function : {}\".format(anything))\\n    return anything', '_i1': 'def func_param(func):\\n    result = func(100, 70, 80)\\n    print(round(result,2))\\n\\nfunc_param(avg_func)', 'func_param': <function func_param at 0x1a0f798ae8>, '_i2': 'def avg_func(korean, english, math):\\n    return (korean + english + math) / 3', 'avg_func': <function avg_func at 0x1a0f7989d8>, '_i3': 'a = avg_func(100, 70, 80)\\nprint(\"avg : {}\".format(round(a,2)))', 'a': 83.33333333333333, '_i4': 'def func_param(func):\\n    result = func(100, 70, 80)\\n    print(round(result,2))\\n\\nfunc_param(avg_func)', '_i5': 'def echo(anything):\\n    \\'echo returns its input argument\\'\\n    return anything\\n\\ndef echo2(anything):\\n    \\'\\'\\'\\n    echo returns its input argument\\n    The operation is:\\n        1. print anything parameter\\n        2. return anything parameter\\n    \\'\\'\\'\\n    print(\"echo2 function : {}\".format(anything))\\n    return anything', 'echo': <function echo at 0x1a0f7b50d0>, 'echo2': <function echo2 at 0x1a0f7b5158>, '_i6': 'print(echo.__doc__)', '_i7': 'echo.__doc__', '_7': 'echo returns its input argument', '_i8': \"gv1 = 1\\ngv2 = 2\\n\\ndef print_globals():\\n    gv1 = 10\\n    gv2 = 20\\n    print(globals())\\n\\ndef print_locals():\\n    gv1 = 10\\n    gv2 = 20\\n    print(locals())\\n\\nprint_globals()\\nprint_locals() \\nglobals()['gv2']\", 'gv1': 1, 'gv2': 2, 'print_globals': <function print_globals at 0x1a0f798f28>, 'print_locals': <function print_locals at 0x1a0f798ea0>}\n",
      "{'gv2': 20, 'gv1': 10}\n"
     ]
    },
    {
     "data": {
      "text/plain": [
       "2"
      ]
     },
     "execution_count": 8,
     "metadata": {},
     "output_type": "execute_result"
    }
   ],
   "source": [
    "gv1 = 1\n",
    "gv2 = 2\n",
    "\n",
    "def print_globals():\n",
    "    gv1 = 10\n",
    "    gv2 = 20\n",
    "    print(globals())\n",
    "\n",
    "def print_locals():\n",
    "    gv1 = 10\n",
    "    gv2 = 20\n",
    "    print(locals())\n",
    "\n",
    "print_globals()\n",
    "print_locals() \n",
    "globals()['gv2']"
   ]
  },
  {
   "cell_type": "code",
   "execution_count": 31,
   "metadata": {},
   "outputs": [
    {
     "name": "stdout",
     "output_type": "stream",
     "text": [
      "10\n",
      "10\n"
     ]
    }
   ],
   "source": [
    "gv = 10\n",
    "def change_gv(data):\n",
    "    gv = data\n",
    "\n",
    "print(gv)\n",
    "change_gv(100)\n",
    "print(gv)"
   ]
  },
  {
   "cell_type": "code",
   "execution_count": 32,
   "metadata": {},
   "outputs": [
    {
     "name": "stdout",
     "output_type": "stream",
     "text": [
      "10\n",
      "100\n"
     ]
    }
   ],
   "source": [
    "gv = 10\n",
    "def change_gv(data):\n",
    "    global gv\n",
    "    gv = data\n",
    "    \n",
    "print(gv)\n",
    "change_gv(100)\n",
    "print(gv)"
   ]
  },
  {
   "cell_type": "markdown",
   "metadata": {},
   "source": [
    "### inner function"
   ]
  },
  {
   "cell_type": "code",
   "execution_count": 33,
   "metadata": {
    "collapsed": true
   },
   "outputs": [],
   "source": [
    "def outer(a, b):\n",
    "    def inner(c, d):\n",
    "        return c + d\n",
    "    return inner(a, b)"
   ]
  },
  {
   "cell_type": "code",
   "execution_count": 34,
   "metadata": {},
   "outputs": [
    {
     "data": {
      "text/plain": [
       "11"
      ]
     },
     "execution_count": 34,
     "metadata": {},
     "output_type": "execute_result"
    }
   ],
   "source": [
    "outer(4,7)"
   ]
  },
  {
   "cell_type": "code",
   "execution_count": 35,
   "metadata": {
    "collapsed": true
   },
   "outputs": [],
   "source": [
    "a = outer(5, 6)"
   ]
  },
  {
   "cell_type": "markdown",
   "metadata": {},
   "source": [
    "### lambda function\n",
    "- anonymous function"
   ]
  },
  {
   "cell_type": "code",
   "execution_count": 36,
   "metadata": {
    "collapsed": true
   },
   "outputs": [],
   "source": [
    "def sum_func(x, y):\n",
    "    return x + y"
   ]
  },
  {
   "cell_type": "code",
   "execution_count": 37,
   "metadata": {},
   "outputs": [
    {
     "data": {
      "text/plain": [
       "11"
      ]
     },
     "execution_count": 37,
     "metadata": {},
     "output_type": "execute_result"
    }
   ],
   "source": [
    "sum_func(5,6)"
   ]
  },
  {
   "cell_type": "code",
   "execution_count": 1,
   "metadata": {
    "collapsed": true
   },
   "outputs": [],
   "source": [
    "sum_func2 = lambda x, y : x + y"
   ]
  },
  {
   "cell_type": "code",
   "execution_count": 2,
   "metadata": {},
   "outputs": [
    {
     "data": {
      "text/plain": [
       "11"
      ]
     },
     "execution_count": 2,
     "metadata": {},
     "output_type": "execute_result"
    }
   ],
   "source": [
    "sum_func2(5,6)"
   ]
  },
  {
   "cell_type": "code",
   "execution_count": 40,
   "metadata": {
    "collapsed": true
   },
   "outputs": [],
   "source": [
    "sum_func3 = lambda x=1, y=2 : x + y"
   ]
  },
  {
   "cell_type": "code",
   "execution_count": 41,
   "metadata": {},
   "outputs": [
    {
     "data": {
      "text/plain": [
       "3"
      ]
     },
     "execution_count": 41,
     "metadata": {},
     "output_type": "execute_result"
    }
   ],
   "source": [
    "sum_func3()"
   ]
  },
  {
   "cell_type": "code",
   "execution_count": 42,
   "metadata": {},
   "outputs": [
    {
     "data": {
      "text/plain": [
       "7"
      ]
     },
     "execution_count": 42,
     "metadata": {},
     "output_type": "execute_result"
    }
   ],
   "source": [
    "sum_func3(5)"
   ]
  },
  {
   "cell_type": "code",
   "execution_count": 43,
   "metadata": {},
   "outputs": [
    {
     "data": {
      "text/plain": [
       "14"
      ]
     },
     "execution_count": 43,
     "metadata": {},
     "output_type": "execute_result"
    }
   ],
   "source": [
    "sum_func3(5, 9)"
   ]
  },
  {
   "cell_type": "code",
   "execution_count": 44,
   "metadata": {
    "collapsed": true
   },
   "outputs": [],
   "source": [
    "def sum_func4(f, x, y):\n",
    "    return f(x,y)"
   ]
  },
  {
   "cell_type": "code",
   "execution_count": 45,
   "metadata": {},
   "outputs": [
    {
     "data": {
      "text/plain": [
       "12"
      ]
     },
     "execution_count": 45,
     "metadata": {},
     "output_type": "execute_result"
    }
   ],
   "source": [
    "sum_func4(lambda x,y:x+y, 5, 7)"
   ]
  },
  {
   "cell_type": "markdown",
   "metadata": {},
   "source": [
    "### map\n",
    "- map은 함수와 반복가능한 자료형을 받아 각 요소가 함수에 의해 수행된 결과를 리스트 형태의 자료형으로 리턴하는 함수\n",
    "- map(f, iterable) 형태로 사용 (f: 함수, iterable: 반복가능한 자료형)\n",
    "- 각 요소별로 반복문을 만들어서 "
   ]
  },
  {
   "cell_type": "markdown",
   "metadata": {},
   "source": [
    "map: 입력데이터와 출력데이터가 같음 \n",
    "     리턴값이 숫자나 문자등 리스트형식\n",
    "\n",
    "filter: 리턴값이 True 값만 남김, 원래 데이터보다 같거나 작음\n",
    "\n",
    "reduce : [a,b,c]  a와 b의 결과값에 c를 입력함. 결국 값은 하나만 남게 됨\n",
    "\n",
    "3개의 함수 모두 가능하면 lambda 함수를 이용. 일반 함수 적용하면 전역함수로 기록되어 메모리에 계속 할당됨"
   ]
  },
  {
   "cell_type": "code",
   "execution_count": 46,
   "metadata": {
    "collapsed": true
   },
   "outputs": [],
   "source": [
    "def sum_two(numberList):\n",
    "    result = []\n",
    "    for number in numberList:\n",
    "        result.append(number + 2)\n",
    "    return result"
   ]
  },
  {
   "cell_type": "code",
   "execution_count": 47,
   "metadata": {},
   "outputs": [
    {
     "name": "stdout",
     "output_type": "stream",
     "text": [
      "numberList : [1, 2, 3, 4, 5, 6, 7, 8, 9]\n"
     ]
    },
    {
     "data": {
      "text/plain": [
       "[3, 4, 5, 6, 7, 8, 9, 10, 11]"
      ]
     },
     "execution_count": 47,
     "metadata": {},
     "output_type": "execute_result"
    }
   ],
   "source": [
    "numberList = range(1,10)\n",
    "print(\"numberList :\", list(numberList))\n",
    "sum_two(numberList)"
   ]
  },
  {
   "cell_type": "code",
   "execution_count": 9,
   "metadata": {
    "collapsed": true
   },
   "outputs": [],
   "source": [
    "# map으로 구현\n",
    "def sum_two_map(number):\n",
    "    return number + 2"
   ]
  },
  {
   "cell_type": "code",
   "execution_count": 11,
   "metadata": {},
   "outputs": [
    {
     "name": "stdout",
     "output_type": "stream",
     "text": [
      "numberList : [1, 2, 3, 4, 5, 6, 7, 8, 9]\n"
     ]
    },
    {
     "data": {
      "text/plain": [
       "[3, 4, 5, 6, 7, 8, 9, 10, 11]"
      ]
     },
     "execution_count": 11,
     "metadata": {},
     "output_type": "execute_result"
    }
   ],
   "source": [
    "numberList = range(1,10)\n",
    "print(\"numberList :\", list(numberList))\n",
    "list(map(sum_two_map, numberList))"
   ]
  },
  {
   "cell_type": "code",
   "execution_count": 50,
   "metadata": {},
   "outputs": [
    {
     "name": "stdout",
     "output_type": "stream",
     "text": [
      "numberList : [1, 2, 3, 4, 5, 6, 7, 8, 9]\n"
     ]
    },
    {
     "data": {
      "text/plain": [
       "[3, 4, 5, 6, 7, 8, 9, 10, 11]"
      ]
     },
     "execution_count": 50,
     "metadata": {},
     "output_type": "execute_result"
    }
   ],
   "source": [
    "# map과 lambda로 구현\n",
    "numberList = range(1,10)\n",
    "print(\"numberList :\", list(numberList))\n",
    "list(map(lambda number : number + 2, numberList))"
   ]
  },
  {
   "cell_type": "code",
   "execution_count": 51,
   "metadata": {},
   "outputs": [
    {
     "name": "stdout",
     "output_type": "stream",
     "text": [
      "numberList : [1, 2, 3, 4, 5, 6, 7, 8, 9]\n"
     ]
    },
    {
     "data": {
      "text/plain": [
       "[2, 4, 6, 6, 10, 8, 14, 10, 18]"
      ]
     },
     "execution_count": 51,
     "metadata": {},
     "output_type": "execute_result"
    }
   ],
   "source": [
    "# lambda에 if else 추가\n",
    "# 홀수에는 곱하기2 짝수에는 더하기2\n",
    "numberList = range(1,10)\n",
    "print(\"numberList :\", list(numberList))\n",
    "list(map(lambda number : number + 2 if number%2 == 0 else number * 2, numberList))"
   ]
  },
  {
   "cell_type": "code",
   "execution_count": 52,
   "metadata": {},
   "outputs": [
    {
     "name": "stdout",
     "output_type": "stream",
     "text": [
      "[0, 1, 2, 3, 4] [5, 6, 7, 8, 9, 10, 11]\n"
     ]
    },
    {
     "data": {
      "text/plain": [
       "[5, 7, 9, 11, 13]"
      ]
     },
     "execution_count": 52,
     "metadata": {},
     "output_type": "execute_result"
    }
   ],
   "source": [
    "# lambda에서 여러개의 리스트를 받아서 데이터 처리\n",
    "# 리스트의 수가 작은 데이터길이로 결과가 잘린다.\n",
    "numbers_1, numbers_2 = range(5), range(5,12)\n",
    "print(list(numbers_1), list(numbers_2))\n",
    "list(map(lambda n1, n2: n1 + n2, numbers_1, numbers_2))"
   ]
  },
  {
   "cell_type": "code",
   "execution_count": 1,
   "metadata": {},
   "outputs": [
    {
     "data": {
      "text/plain": [
       "['Kim', 'Lee', 'Park', 'Kim', 'Lee']"
      ]
     },
     "execution_count": 1,
     "metadata": {},
     "output_type": "execute_result"
    }
   ],
   "source": [
    "# 문제\n",
    "# map을 사용하여 사람이름에서 성만 결과로 출력하는 코드를 작성\n",
    "nameList = [\"Kim kildong\", \"Lee jeawoo\", \"Park sangjin\", \"Kim kilsoo\", \"Lee sungsim\"]\n",
    "result = list(map(lambda name : name.split(\" \")[0], nameList))\n",
    "result"
   ]
  },
  {
   "cell_type": "code",
   "execution_count": 54,
   "metadata": {},
   "outputs": [
    {
     "data": {
      "text/plain": [
       "['Kim', 'Lee', 'Park', 'Kim', 'Lee']"
      ]
     },
     "execution_count": 54,
     "metadata": {},
     "output_type": "execute_result"
    }
   ],
   "source": [
    "### map 직접 구현\n",
    "def mp(func, dataList):\n",
    "    for idx, data in enumerate(dataList):\n",
    "        dataList[idx] = func(data)\n",
    "    return dataList\n",
    "\n",
    "list(mp(lambda name : name.split(\" \")[0], nameList))"
   ]
  },
  {
   "cell_type": "markdown",
   "metadata": {},
   "source": [
    "### filter\n",
    "- 특정 조건에 맞는 데이터만 가져오는 함수"
   ]
  },
  {
   "cell_type": "code",
   "execution_count": 55,
   "metadata": {},
   "outputs": [
    {
     "data": {
      "text/plain": [
       "[0, 2, 4, 6, 8]"
      ]
     },
     "execution_count": 55,
     "metadata": {},
     "output_type": "execute_result"
    }
   ],
   "source": [
    "# 리스트에서 짝수 데이터만 가져오기\n",
    "def get_odd(numberList):\n",
    "    result = []\n",
    "    for number in numberList:\n",
    "        if number%2 == 0:\n",
    "            result.append(number)\n",
    "    return result\n",
    "\n",
    "numberList = range(10)\n",
    "get_odd(numberList)"
   ]
  },
  {
   "cell_type": "code",
   "execution_count": 56,
   "metadata": {},
   "outputs": [
    {
     "data": {
      "text/plain": [
       "([0, 2, 4, 6, 8], [0, 2, 4, 6, 8])"
      ]
     },
     "execution_count": 56,
     "metadata": {},
     "output_type": "execute_result"
    }
   ],
   "source": [
    "def odd1(number):\n",
    "    if number%2 == 0:\n",
    "        return True\n",
    "    return False\n",
    "\n",
    "def odd2(number):\n",
    "    return True if number%2 == 0 else False\n",
    "\n",
    "numberList = range(10)\n",
    "list(filter(odd1, numberList)), list(filter(odd2, numberList))"
   ]
  },
  {
   "cell_type": "code",
   "execution_count": 57,
   "metadata": {},
   "outputs": [
    {
     "data": {
      "text/plain": [
       "[0, 2, 4, 6, 8]"
      ]
     },
     "execution_count": 57,
     "metadata": {},
     "output_type": "execute_result"
    }
   ],
   "source": [
    "numberList = range(10)\n",
    "list(filter(lambda number : number % 2 == 0, numberList))"
   ]
  },
  {
   "cell_type": "code",
   "execution_count": 4,
   "metadata": {},
   "outputs": [
    {
     "data": {
      "text/plain": [
       "['Lee jeawoo', 'Lee sungsim']"
      ]
     },
     "execution_count": 4,
     "metadata": {},
     "output_type": "execute_result"
    }
   ],
   "source": [
    "# 문제\n",
    "# filter를 사용하여 사람 이름에서 성이 Lee인 사람의 이름만 결과로 출력하는 코드 작성\n",
    "nameList = [\"Kim kildong\", \"Lee jeawoo\", \"Park sangjin\", \"Kim kilsoo\", \"Lee sungsim\"]\n",
    "result = list(filter(lambda name : True if name.split(\" \")[0] ==\"Lee\" else False, nameList))\n",
    "result\n",
    "\n",
    "# result = list(filter(lambda name : name.split(\" \")[0] == \"Lee\", nameList))\n",
    "# result"
   ]
  },
  {
   "cell_type": "code",
   "execution_count": 59,
   "metadata": {},
   "outputs": [
    {
     "data": {
      "text/plain": [
       "['Lee jeawoo', 'Lee sungsim']"
      ]
     },
     "execution_count": 59,
     "metadata": {},
     "output_type": "execute_result"
    }
   ],
   "source": [
    "# filter를 직접구현\n",
    "def ft(func, dataList):\n",
    "    result = []\n",
    "    for data in dataList:\n",
    "        if func(data):\n",
    "            result.append(data)\n",
    "    return result\n",
    "\n",
    "list(filter(lambda name : name.split(\" \")[0] == \"Lee\", nameList))"
   ]
  },
  {
   "cell_type": "markdown",
   "metadata": {},
   "source": [
    "### reduce\n",
    "- 처음 값부터 순차적으로지정된 함수를 처리해주는 함수\n",
    "- 결과값이 하나임"
   ]
  },
  {
   "cell_type": "code",
   "execution_count": 5,
   "metadata": {
    "collapsed": true
   },
   "outputs": [],
   "source": [
    "from functools import reduce"
   ]
  },
  {
   "cell_type": "code",
   "execution_count": 61,
   "metadata": {},
   "outputs": [
    {
     "data": {
      "text/plain": [
       "15"
      ]
     },
     "execution_count": 61,
     "metadata": {},
     "output_type": "execute_result"
    }
   ],
   "source": [
    "a = [3, 1, 5, 2, 4]\n",
    "reduce(lambda x, y: x + y, a)"
   ]
  },
  {
   "cell_type": "code",
   "execution_count": 62,
   "metadata": {},
   "outputs": [
    {
     "data": {
      "text/plain": [
       "5"
      ]
     },
     "execution_count": 62,
     "metadata": {},
     "output_type": "execute_result"
    }
   ],
   "source": [
    "# 가장 큰수를 구하기\n",
    "a = [3, 1, 5, 2, 4]\n",
    "reduce(lambda x, y: x if x > y else y, a)"
   ]
  },
  {
   "cell_type": "code",
   "execution_count": 8,
   "metadata": {},
   "outputs": [
    {
     "data": {
      "text/plain": [
       "'Park sangjin'"
      ]
     },
     "execution_count": 8,
     "metadata": {},
     "output_type": "execute_result"
    }
   ],
   "source": [
    "# 문제\n",
    "# reduce를 사용하여 이름의 길이가 가장 긴 사람을 출력하는 코드 작성\n",
    "nameList = [\"Kim kildong\", \"Lee jeawoo\", \"Park sangjin\", \"Kim kilsoo\", \"Lee sungsim\"]\n",
    "result = reduce(lambda name1, name2 : name1 if len(name1)>len(name2) else name2, nameList)\n",
    "result\n",
    "\n",
    "# result = reduce(lambda name1, name2 : name1 if len(name1) > len(name2) else name2, nameList)\n",
    "# print(result)"
   ]
  },
  {
   "cell_type": "code",
   "execution_count": 64,
   "metadata": {},
   "outputs": [
    {
     "data": {
      "text/plain": [
       "['Kim kildong : 11',\n",
       " 'Lee jeawoo : 10',\n",
       " 'Park sangjin : 12',\n",
       " 'Kim kilsoo : 10',\n",
       " 'Lee sungsim : 11']"
      ]
     },
     "execution_count": 64,
     "metadata": {},
     "output_type": "execute_result"
    }
   ],
   "source": [
    "# map을 이용하여 이름과 이름의 글자수를 출력하는 코드작성\n",
    "list(map(lambda name: name + \" : \" + str(len(name)), nameList))"
   ]
  },
  {
   "cell_type": "code",
   "execution_count": 65,
   "metadata": {},
   "outputs": [
    {
     "data": {
      "text/plain": [
       "'Park sangjin'"
      ]
     },
     "execution_count": 65,
     "metadata": {},
     "output_type": "execute_result"
    }
   ],
   "source": [
    "# reduce를 직접 구현\n",
    "def rd(func, dataList):\n",
    "    result = dataList[0]\n",
    "    del dataList[0]\n",
    "    for data in dataList:\n",
    "        result = func(result, data)\n",
    "    return result\n",
    "\n",
    "rd(lambda name1, name2 : name1 if len(name1) > len(name2) else name2, nameList)"
   ]
  },
  {
   "cell_type": "code",
   "execution_count": 10,
   "metadata": {},
   "outputs": [
    {
     "data": {
      "text/plain": [
       "['Park sangjin']"
      ]
     },
     "execution_count": 10,
     "metadata": {},
     "output_type": "execute_result"
    }
   ],
   "source": [
    "ls = [0] # 리스트에 먼저 0을 할당하여 메모리를 잡음\n",
    "ls[0] = 'Park sangjin'\n",
    "ls"
   ]
  },
  {
   "cell_type": "markdown",
   "metadata": {},
   "source": [
    "### decorator\n",
    "- 코드를 바꾸지 않고 사용하고 있는 함수를 수정하고 싶을 때 사용\n",
    "- `*args`, `**kwargs`, 내부함수, 함수인자 사용"
   ]
  },
  {
   "cell_type": "code",
   "execution_count": 66,
   "metadata": {
    "collapsed": true
   },
   "outputs": [],
   "source": [
    "def disp_func(func):\n",
    "    def new_func(*args, **kwargs):\n",
    "        print(\"running function :\", func.__name__)\n",
    "        print(\"args :\", args)\n",
    "        print(\"kwargs :\", kwargs)\n",
    "        result = func(*args, **kwargs) # running func\n",
    "        print(\"result :\", result)\n",
    "        return result\n",
    "    return new_func"
   ]
  },
  {
   "cell_type": "code",
   "execution_count": 67,
   "metadata": {},
   "outputs": [
    {
     "data": {
      "text/plain": [
       "12"
      ]
     },
     "execution_count": 67,
     "metadata": {},
     "output_type": "execute_result"
    }
   ],
   "source": [
    "def sum_int(a, b):\n",
    "    return a + b\n",
    "sum_int(5, 7)"
   ]
  },
  {
   "cell_type": "code",
   "execution_count": 68,
   "metadata": {},
   "outputs": [
    {
     "name": "stdout",
     "output_type": "stream",
     "text": [
      "running function : sum_int\n",
      "args : (5, 7)\n",
      "kwargs : {}\n",
      "result : 12\n"
     ]
    },
    {
     "data": {
      "text/plain": [
       "12"
      ]
     },
     "execution_count": 68,
     "metadata": {},
     "output_type": "execute_result"
    }
   ],
   "source": [
    "# 수동으로 선언\n",
    "new_sum_int = disp_func(sum_int)\n",
    "new_sum_int(5,7)"
   ]
  },
  {
   "cell_type": "code",
   "execution_count": 69,
   "metadata": {},
   "outputs": [
    {
     "name": "stdout",
     "output_type": "stream",
     "text": [
      "running function : sum_int2\n",
      "args : (5, 7)\n",
      "kwargs : {}\n",
      "result : 12\n"
     ]
    },
    {
     "data": {
      "text/plain": [
       "12"
      ]
     },
     "execution_count": 69,
     "metadata": {},
     "output_type": "execute_result"
    }
   ],
   "source": [
    "@disp_func\n",
    "def sum_int2(a, b):\n",
    "    return a + b\n",
    "sum_int2(5, 7)"
   ]
  },
  {
   "cell_type": "markdown",
   "metadata": {},
   "source": [
    "##### 함수의 실행 시간을 알려주는 decorator"
   ]
  },
  {
   "cell_type": "code",
   "execution_count": 70,
   "metadata": {
    "collapsed": true
   },
   "outputs": [],
   "source": [
    "import time\n",
    "def timer(func):\n",
    "    def wrapper(*args, **kwargs): # 함수 정의부 packing\n",
    "        print(\"function name :\", func.__name__)\n",
    "        start_time = time.time()\n",
    "        result = func(*args, **kwargs) # 함수 호출부 unpacking\n",
    "        print(\"result :\", result)\n",
    "        end_time = time.time()\n",
    "        print(\"time : {time}\".format(time = end_time - start_time))\n",
    "        return result\n",
    "    return wrapper # 새로운 함수를 만들고, 그 함수를 return 하는 함수 => decorator 함수"
   ]
  },
  {
   "cell_type": "code",
   "execution_count": 71,
   "metadata": {
    "collapsed": true
   },
   "outputs": [],
   "source": [
    "@timer\n",
    "def sum_func_1(start_number, last_number):\n",
    "    data = range(start_number, last_number + 1)\n",
    "    return sum(data)\n",
    "\n",
    "@timer\n",
    "def sum_func_2(start_number, last_number):\n",
    "    result = 0\n",
    "    for num in range(start_number, last_number + 1):\n",
    "        result += num\n",
    "    return result\n",
    "\n",
    "@timer\n",
    "def sum_func_3(start_number, last_number):\n",
    "    number_list = [ num for num in range(start_number, last_number + 1)]\n",
    "    return sum(number_list)"
   ]
  },
  {
   "cell_type": "code",
   "execution_count": 72,
   "metadata": {},
   "outputs": [
    {
     "name": "stdout",
     "output_type": "stream",
     "text": [
      "function name : sum_func_1\n",
      "result : 50000005000000\n",
      "time : 0.20468521118164062\n",
      "function name : sum_func_2\n",
      "result : 50000005000000\n",
      "time : 0.6454248428344727\n",
      "function name : sum_func_3\n",
      "result : 50000005000000\n",
      "time : 0.709773063659668\n"
     ]
    },
    {
     "data": {
      "text/plain": [
       "50000005000000"
      ]
     },
     "execution_count": 72,
     "metadata": {},
     "output_type": "execute_result"
    }
   ],
   "source": [
    "start_number, last_number = 1, 10000000\n",
    "sum_func_1(start_number, last_number)\n",
    "sum_func_2(start_number, last_number)\n",
    "sum_func_3(start_number, last_number)"
   ]
  },
  {
   "cell_type": "code",
   "execution_count": 16,
   "metadata": {},
   "outputs": [
    {
     "ename": "ValueError",
     "evalue": "shapes (3,1) and (3,1) not aligned: 1 (dim 1) != 3 (dim 0)",
     "output_type": "error",
     "traceback": [
      "\u001b[0;31m---------------------------------------------------------------------------\u001b[0m",
      "\u001b[0;31mValueError\u001b[0m                                Traceback (most recent call last)",
      "\u001b[0;32m<ipython-input-16-7df9d19c7630>\u001b[0m in \u001b[0;36m<module>\u001b[0;34m()\u001b[0m\n\u001b[1;32m      1\u001b[0m \u001b[0mx\u001b[0m \u001b[0;34m=\u001b[0m \u001b[0mnp\u001b[0m\u001b[0;34m.\u001b[0m\u001b[0marray\u001b[0m\u001b[0;34m(\u001b[0m\u001b[0;34m[\u001b[0m\u001b[0;34m[\u001b[0m\u001b[0;36m1\u001b[0m\u001b[0;34m]\u001b[0m\u001b[0;34m,\u001b[0m \u001b[0;34m[\u001b[0m\u001b[0;36m2\u001b[0m\u001b[0;34m]\u001b[0m\u001b[0;34m,\u001b[0m \u001b[0;34m[\u001b[0m\u001b[0;36m3\u001b[0m\u001b[0;34m]\u001b[0m\u001b[0;34m]\u001b[0m\u001b[0;34m)\u001b[0m\u001b[0;34m\u001b[0m\u001b[0m\n\u001b[1;32m      2\u001b[0m \u001b[0my\u001b[0m \u001b[0;34m=\u001b[0m \u001b[0mnp\u001b[0m\u001b[0;34m.\u001b[0m\u001b[0marray\u001b[0m\u001b[0;34m(\u001b[0m\u001b[0;34m[\u001b[0m\u001b[0;34m[\u001b[0m\u001b[0;36m4\u001b[0m\u001b[0;34m]\u001b[0m\u001b[0;34m,\u001b[0m \u001b[0;34m[\u001b[0m\u001b[0;36m5\u001b[0m\u001b[0;34m]\u001b[0m\u001b[0;34m,\u001b[0m \u001b[0;34m[\u001b[0m\u001b[0;36m6\u001b[0m\u001b[0;34m]\u001b[0m\u001b[0;34m]\u001b[0m\u001b[0;34m)\u001b[0m\u001b[0;34m\u001b[0m\u001b[0m\n\u001b[0;32m----> 3\u001b[0;31m \u001b[0mnp\u001b[0m\u001b[0;34m.\u001b[0m\u001b[0mdot\u001b[0m\u001b[0;34m(\u001b[0m\u001b[0mx\u001b[0m\u001b[0;34m,\u001b[0m \u001b[0my\u001b[0m\u001b[0;34m)\u001b[0m\u001b[0;34m[\u001b[0m\u001b[0;36m0\u001b[0m\u001b[0;34m,\u001b[0m \u001b[0;36m0\u001b[0m\u001b[0;34m]\u001b[0m\u001b[0;34m\u001b[0m\u001b[0m\n\u001b[0m",
      "\u001b[0;31mValueError\u001b[0m: shapes (3,1) and (3,1) not aligned: 1 (dim 1) != 3 (dim 0)"
     ]
    }
   ],
   "source": [
    "x = np.array([[1], [2], [3]])\n",
    "y = np.array([[4], [5], [6]])\n",
    "np.dot(x, y)[0, 0]"
   ]
  },
  {
   "cell_type": "code",
   "execution_count": 15,
   "metadata": {},
   "outputs": [
    {
     "data": {
      "text/plain": [
       "32"
      ]
     },
     "execution_count": 15,
     "metadata": {},
     "output_type": "execute_result"
    }
   ],
   "source": [
    "x = np.array([1, 2, 3])\n",
    "y = np.array([4, 5, 6])\n",
    "np.dot(x.T, y)"
   ]
  },
  {
   "cell_type": "code",
   "execution_count": null,
   "metadata": {
    "collapsed": true
   },
   "outputs": [],
   "source": []
  }
 ],
 "metadata": {
  "kernelspec": {
   "display_name": "Python 3",
   "language": "python",
   "name": "python3"
  },
  "language_info": {
   "codemirror_mode": {
    "name": "ipython",
    "version": 3
   },
   "file_extension": ".py",
   "mimetype": "text/x-python",
   "name": "python",
   "nbconvert_exporter": "python",
   "pygments_lexer": "ipython3",
   "version": "3.6.3"
  }
 },
 "nbformat": 4,
 "nbformat_minor": 2
}
